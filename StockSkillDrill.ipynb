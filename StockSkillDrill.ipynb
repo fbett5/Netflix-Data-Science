{
 "cells": [
  {
   "cell_type": "code",
   "execution_count": 27,
   "source": [
    "# Import the 'os' and 'csv' libraries\r\n",
    "# First we'll import the os module\r\n",
    "import os\r\n",
    "\r\n",
    "# Module for reading CSV files\r\n",
    "import csv"
   ],
   "outputs": [],
   "metadata": {}
  },
  {
   "cell_type": "code",
   "execution_count": 59,
   "source": [
    "# Set path for importing our CSV file\r\n",
    "yahoo_stock = os.path.join('../Resources', 'yahoo_stock.csv')"
   ],
   "outputs": [],
   "metadata": {}
  },
  {
   "cell_type": "code",
   "execution_count": 62,
   "source": [
    "# Open a connection to the comma-delimited csv file\r\n",
    "with open(yahoo_stock,'r') as csvfile:\r\n",
    "\r\n",
    "    # Read in the CSV file using csv.DictReader() class\r\n",
    "    csvreader = csv.DictReader(csvfile, delimiter=',')\r\n",
    "    \r\n",
    "    # Create a variable to save our print row and greatest daily percent change\r\n",
    "    max_pct = 0\r\n",
    "    printrow = {}\r\n",
    "    \r\n",
    "    # Iterate through each row\r\n",
    "    for row in csvreader:\r\n",
    "        \r\n",
    "        # For each row, calculate the daily percent change\r\n",
    "        pct_change = round(((float(row['Close']) - float(row['Open'])) / float(row['Open']))*100,2)\r\n",
    "        \r\n",
    "        # Check if the absolute daily percent change is greater than the previous max\r\n",
    "        if abs(pct_change) > max_pct:\r\n",
    "            \r\n",
    "            # If true, store new greatest daily percent change and print row\r\n",
    "            max_pct = pct_change\r\n",
    "            printrow = row"
   ],
   "outputs": [],
   "metadata": {}
  },
  {
   "cell_type": "code",
   "execution_count": 63,
   "source": [
    "\n",
    "        \n",
    "print(f\"The day with the greatest daily percent change was {['Date']} on that day the stock changed {max_pct}%.\")\n",
    "print(f\"The high of the day was {printrow['High']}, the low of that day was {printrow['Low']}.\")\n",
    "print(f\"The volume for that day was {printrow['Volume']}.\")\n",
    "    "
   ],
   "outputs": [
    {
     "output_type": "stream",
     "name": "stdout",
     "text": [
      "The day with the greatest daily percent change was ['Date'] on that day the stock changed 5.49%.\n",
      "The high of the day was 2711.330078, the low of that day was 2492.370117.\n",
      "The volume for that day was 8258670000.\n"
     ]
    }
   ],
   "metadata": {
    "tags": []
   }
  }
 ],
 "metadata": {
  "kernelspec": {
   "display_name": "Python 3",
   "language": "python",
   "name": "python3"
  },
  "language_info": {
   "codemirror_mode": {
    "name": "ipython",
    "version": 3
   },
   "file_extension": ".py",
   "mimetype": "text/x-python",
   "name": "python",
   "nbconvert_exporter": "python",
   "pygments_lexer": "ipython3",
   "version": "3.8.8"
  }
 },
 "nbformat": 4,
 "nbformat_minor": 4
}